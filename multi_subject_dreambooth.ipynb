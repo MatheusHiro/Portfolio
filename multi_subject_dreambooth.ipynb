{
  "cells": [
    {
      "cell_type": "markdown",
      "metadata": {
        "id": "view-in-github",
        "colab_type": "text"
      },
      "source": [
        "<a href=\"https://colab.research.google.com/github/MatheusHiro/Portfolio/blob/main/multi_subject_dreambooth.ipynb\" target=\"_parent\"><img src=\"https://colab.research.google.com/assets/colab-badge.svg\" alt=\"Open In Colab\"/></a>"
      ]
    },
    {
      "cell_type": "code",
      "execution_count": null,
      "metadata": {
        "id": "jo1Vf9yhbkQ9"
      },
      "outputs": [],
      "source": [
        "from google.colab import drive\n",
        "drive.mount('/content/drive')"
      ]
    },
    {
      "cell_type": "markdown",
      "source": [
        "**Carrega a biblioteca/Clona o repositório ⬇**"
      ],
      "metadata": {
        "id": "ajmS6NtHxXG8"
      }
    },
    {
      "cell_type": "code",
      "execution_count": null,
      "metadata": {
        "id": "7OM35bgsbrro"
      },
      "outputs": [],
      "source": [
        "!git clone https://github.com/huggingface/diffusers\n"
      ]
    },
    {
      "cell_type": "code",
      "execution_count": null,
      "metadata": {
        "id": "rDQH0QtMbySE"
      },
      "outputs": [],
      "source": [
        "cd diffusers"
      ]
    },
    {
      "cell_type": "code",
      "execution_count": null,
      "metadata": {
        "id": "ZzYCJ3Gsb0Jw"
      },
      "outputs": [],
      "source": [
        "!pip install -e .\n"
      ]
    },
    {
      "cell_type": "code",
      "execution_count": null,
      "metadata": {
        "id": "gseu135Zb3UX"
      },
      "outputs": [],
      "source": [
        "cd examples/research_projects/multi_subject_dreambooth"
      ]
    },
    {
      "cell_type": "code",
      "execution_count": null,
      "metadata": {
        "id": "cFl-7ycqb6dB"
      },
      "outputs": [],
      "source": [
        "!pip install -r requirements.txt"
      ]
    },
    {
      "cell_type": "code",
      "execution_count": null,
      "metadata": {
        "id": "0kTNGhuxoFLA"
      },
      "outputs": [],
      "source": [
        "from accelerate.utils import write_basic_config\n",
        "write_basic_config()"
      ]
    },
    {
      "cell_type": "code",
      "execution_count": null,
      "metadata": {
        "id": "lceykcvUb9Ds"
      },
      "outputs": [],
      "source": [
        "from huggingface_hub import notebook_login\n",
        "\n",
        "notebook_login()"
      ]
    },
    {
      "cell_type": "code",
      "execution_count": null,
      "metadata": {
        "id": "wQAbTIRdsvTl"
      },
      "outputs": [],
      "source": [
        "#@title Login to HuggingFace 🤗\n",
        "\n",
        "#@markdown You need to accept the model license before downloading or using the Stable Diffusion weights. Please, visit the [model card](https://huggingface.co/runwayml/stable-diffusion-v1-5), read the license and tick the checkbox if you agree. You have to be a registered user in 🤗 Hugging Face Hub, and you'll also need to use an access token for the code to work.\n",
        "# https://huggingface.co/settings/tokens\n",
        "!mkdir -p ~/.huggingface\n",
        "HUGGINGFACE_TOKEN = \"\" #@param {type:\"string\"}\n",
        "!echo -n \"{HUGGINGFACE_TOKEN}\" > ~/.huggingface/token"
      ]
    },
    {
      "cell_type": "code",
      "execution_count": null,
      "metadata": {
        "id": "C0KUowK3cLTn"
      },
      "outputs": [],
      "source": [
        "#@markdown Name/Path of the initial model.\n",
        "MODEL_NAME = \"runwayml/stable-diffusion-v1-5\" #@param {type:\"string\"}\n",
        "\n",
        "\n",
        "\n",
        "#@markdown Enter the directory name to save model at.\n",
        "\n",
        "OUTPUT_DIR = \"\" #@param {type:\"string\"}\n",
        "OUTPUT_DIR = \"/content/drive/MyDrive/\" + OUTPUT_DIR\n",
        "\n",
        "\n",
        "print(f\"[*] Weights will be saved at {OUTPUT_DIR}\")\n",
        "\n",
        "!mkdir -p $OUTPUT_DIR\n"
      ]
    },
    {
      "cell_type": "code",
      "execution_count": null,
      "metadata": {
        "id": "PTOudVnMzwyv"
      },
      "outputs": [],
      "source": [
        "!pip install xformers\n",
        "!pip install bitsandbytes"
      ]
    },
    {
      "cell_type": "code",
      "execution_count": null,
      "metadata": {
        "id": "QFXbo9_IMIY2"
      },
      "outputs": [],
      "source": [
        "!pip3 install datasets"
      ]
    },
    {
      "cell_type": "markdown",
      "source": [
        "**Treinamento do modelo ⬇**"
      ],
      "metadata": {
        "id": "YC8NTIH8w8hq"
      }
    },
    {
      "cell_type": "code",
      "execution_count": null,
      "metadata": {
        "id": "pZKrZSoWmtdu"
      },
      "outputs": [],
      "source": [
        "!python3 train_multi_subject_dreambooth.py \\\n",
        "  --pretrained_model_name_or_path=$MODEL_NAME  \\\n",
        "  --concepts_list=\"\" \\\n",
        "  --output_dir=$OUTPUT_DIR \\\n",
        "  --mixed_precision=\"fp16\" \\\n",
        "  --prior_loss_weight=1.0 \\\n",
        "  --num_class_images=0 \\\n",
        "  --resolution=512 \\\n",
        "  --gradient_accumulation_steps=1 --gradient_checkpointing \\\n",
        "  --learning_rate=1e-6 \\\n",
        "  --lr_scheduler=\"constant\" \\\n",
        "  --lr_warmup_steps=0 \\\n",
        "  --max_train_steps=20000 \\\n",
        "  --checkpointing_steps=15000\n"
      ]
    },
    {
      "cell_type": "markdown",
      "source": [
        "**Geração das Imagens ⬇**"
      ],
      "metadata": {
        "id": "nbzoAiYuwvYB"
      }
    },
    {
      "cell_type": "code",
      "execution_count": null,
      "metadata": {
        "id": "8wUsaAm_1Ta6"
      },
      "outputs": [],
      "source": [
        "import torch\n",
        "from diffusers import StableDiffusionPipeline\n",
        "from PIL import Image as PILImage\n",
        "import os\n",
        "import datetime\n",
        "\n",
        "model_path = \"\"\n",
        "\n",
        "# Create the output folder if it doesn't exist\n",
        "output_folder = \"\"\n",
        "os.makedirs(output_folder, exist_ok=True)\n",
        "\n",
        "pipe = StableDiffusionPipeline.from_pretrained(model_path, safety_checker=None, torch_dtype=torch.float16).to(\"cuda\")\n",
        "pipe.to(\"cuda\")\n",
        "\n",
        "prompt = \"\"\n",
        "\n",
        "# Save 10 images\n",
        "images = pipe(prompt, num_images_per_prompt=10).images\n",
        "\n",
        "for i, image in enumerate(images):\n",
        "    timestamp = datetime.datetime.now().strftime(\"%Y%m%d%H%M%S\")  # Add timestamp\n",
        "\n",
        "    if \"t@y\" in prompt:\n",
        "        folder_name = \"CEC\"\n",
        "        output_filename = f\"CEC_{timestamp}_{i}.png\"\n",
        "    elif \"sks\" in prompt:\n",
        "        folder_name = \"Controle\"\n",
        "        output_filename = f\"Controle_{timestamp}_{i}.png\"\n",
        "    elif \"niu\" in prompt:\n",
        "        folder_name = \"Exposed\"\n",
        "        output_filename = f\"Exposed_{timestamp}_{i}.png\"\n",
        "    elif \"oxi\" in prompt:\n",
        "        folder_name = \"LPM\"\n",
        "        output_filename = f\"LPM_{timestamp}_{i}.png\"\n",
        "    else:\n",
        "        folder_name = \"Other\"\n",
        "        output_filename = f\"Cell_{timestamp}_{i}.png\"\n",
        "\n",
        "    # Save the image to the specified folder\n",
        "    output_path = os.path.join(output_folder, output_filename)\n",
        "    image.save(output_path)\n",
        "\n",
        "    # Save the text to a txt file\n",
        "\n",
        "\n",
        "    print(f\"Image {i+1} saved to: {output_path}\")\n",
        "\n"
      ]
    }
  ],
  "metadata": {
    "accelerator": "GPU",
    "colab": {
      "provenance": [],
      "gpuType": "T4",
      "authorship_tag": "ABX9TyNaSQhUKZopDlVeKFv7KqYH",
      "include_colab_link": true
    },
    "kernelspec": {
      "display_name": "Python 3",
      "name": "python3"
    },
    "language_info": {
      "name": "python"
    }
  },
  "nbformat": 4,
  "nbformat_minor": 0
}